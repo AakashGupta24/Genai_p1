{
 "cells": [
  {
   "cell_type": "code",
   "execution_count": 1,
   "metadata": {},
   "outputs": [],
   "source": [
    "import os\n",
    "import json\n",
    "import pandas as pd\n",
    "import traceback"
   ]
  },
  {
   "cell_type": "code",
   "execution_count": 2,
   "metadata": {},
   "outputs": [],
   "source": [
    "from langchain_anthropic import ChatAnthropic\n",
    "\n",
    "# model = ChatAnthropic(model='claude-3-opus-20240229')"
   ]
  },
  {
   "cell_type": "code",
   "execution_count": 3,
   "metadata": {},
   "outputs": [],
   "source": [
    "from dotenv import load_dotenv\n",
    "load_dotenv()\n",
    "KEY = os.getenv(\"ANTHROPIC_API_KEY\")"
   ]
  },
  {
   "cell_type": "code",
   "execution_count": 4,
   "metadata": {},
   "outputs": [],
   "source": [
    "llm = ChatAnthropic(api_key=KEY,model=\"claude-3-sonnet-20240229\", temperature=0.2, max_tokens=1024)"
   ]
  },
  {
   "cell_type": "code",
   "execution_count": 5,
   "metadata": {},
   "outputs": [],
   "source": [
    "RESPONSE_JSON = {\n",
    "    \"1\": {\n",
    "        \"question\": \"Multiple choice question here\",\n",
    "        \"options\": {\n",
    "            \"A\": \"Option here\",\n",
    "            \"B\": \"Option here\",\n",
    "            \"C\": \"Option here\",\n",
    "            \"D\": \"Option here\"\n",
    "        },\n",
    "        \"correct_option\": \"A\"\n",
    "    },\n",
    "    \"2\": {\n",
    "        \"question\": \"Multiple choice question here\",\n",
    "        \"options\": {\n",
    "            \"A\": \"Option here\",\n",
    "            \"B\": \"Option here\",\n",
    "            \"C\": \"Option here\",\n",
    "            \"D\": \"Option here\"\n",
    "        },\n",
    "        \"correct_option\": \"B\"\n",
    "    },\n",
    "    \"3\": {\n",
    "        \"question\": \"Multiple choice question here\",\n",
    "        \"options\": {\n",
    "            \"A\": \"Option here\",\n",
    "            \"B\": \"Option here\",\n",
    "            \"C\": \"Option here\",\n",
    "            \"D\": \"Option here\"\n",
    "        },\n",
    "        \"correct_option\": \"A\"\n",
    "    }\n",
    "}\n"
   ]
  },
  {
   "cell_type": "code",
   "execution_count": 6,
   "metadata": {},
   "outputs": [],
   "source": [
    "template =\"\"\"\n",
    "    Text :{text}\n",
    "    You are an expert MCQ maker. Given the above text, it is your job to \n",
    "    create a quiz of {number} multiple choice questions for {subject} students in {tone} tone.\n",
    "    Make sure the questions are not repeated and check all the questions to be conforming the text\n",
    "    as well. Make sure to format your response like RESPONSE_JSON below and use it as a guide.\n",
    "    Ensure to make {number} MCQs\n",
    "    ### RESPONSE_JSON\n",
    "    {response_json}\n",
    "\"\"\""
   ]
  },
  {
   "cell_type": "code",
   "execution_count": 7,
   "metadata": {},
   "outputs": [],
   "source": [
    "from langchain.prompts import PromptTemplate\n",
    "from langchain.chains import LLMChain,SequentialChain\n",
    "import PyPDF2\n"
   ]
  },
  {
   "cell_type": "code",
   "execution_count": 8,
   "metadata": {},
   "outputs": [],
   "source": [
    "quiz_generation_prompt = PromptTemplate(\n",
    "    input_variables=[\"text\",\"number\",\"tone\",\"response_josn\"],\n",
    "    template=template\n",
    ")"
   ]
  },
  {
   "cell_type": "code",
   "execution_count": 9,
   "metadata": {},
   "outputs": [
    {
     "name": "stderr",
     "output_type": "stream",
     "text": [
      "C:\\Users\\HP\\AppData\\Local\\Temp\\ipykernel_11964\\3118858387.py:1: LangChainDeprecationWarning: The class `LLMChain` was deprecated in LangChain 0.1.17 and will be removed in 1.0. Use RunnableSequence, e.g., `prompt | llm` instead.\n",
      "  quiz_chain = LLMChain(llm=llm,prompt= quiz_generation_prompt,output_key=\"quiz\")\n"
     ]
    }
   ],
   "source": [
    "quiz_chain = LLMChain(llm=llm,prompt= quiz_generation_prompt,output_key=\"quiz\")"
   ]
  },
  {
   "cell_type": "code",
   "execution_count": 10,
   "metadata": {},
   "outputs": [],
   "source": [
    "template2 = \"\"\" \n",
    "    You are an expert english grammarian and writer. GIven a Multiple Choice Quiz for {subject} students.\n",
    "    You need to evaluate the complexity of the question and gibe a complete analysis of the quiz. Only use at max 50 words for complexity.\n",
    "    if the quiz is not at per with the cognitive and analytical abilities of the students,\n",
    "    update the quiz Questions which needs to be changed and change the tone such that it perfectly fits the students abilities.\n",
    "    Quiz_MCQs:\n",
    "    {quiz}\n",
    "    Check from an expert English Writer of the above quiz\n",
    "\"\"\""
   ]
  },
  {
   "cell_type": "code",
   "execution_count": 11,
   "metadata": {},
   "outputs": [],
   "source": [
    "quiz_evaluation_prompt = PromptTemplate(\n",
    "    input_variables=[\"subject\",\"quiz\"],\n",
    "    template=template2\n",
    ")"
   ]
  },
  {
   "cell_type": "code",
   "execution_count": 12,
   "metadata": {},
   "outputs": [],
   "source": [
    "review_chain = LLMChain(llm=llm,prompt = quiz_evaluation_prompt,output_key=\"review\")"
   ]
  },
  {
   "cell_type": "code",
   "execution_count": 13,
   "metadata": {},
   "outputs": [],
   "source": [
    "generate_chain = SequentialChain(chains=[quiz_chain,review_chain],input_variables=[\"text\",\"number\",\"subject\",\"tone\",\"response_json\"],\n",
    "                                 output_variables=[\"quiz\",\"review\"],verbose = True)"
   ]
  },
  {
   "cell_type": "code",
   "execution_count": 14,
   "metadata": {},
   "outputs": [
    {
     "name": "stdout",
     "output_type": "stream",
     "text": [
      "Machine learning (ML) is a field of study in artificial intelligence concerned with the development and study of statistical algorithms that can learn from data and generalize to unseen data and thus perform tasks without explicit instructions.[1] Recently, artificial neural networks have been able to surpass many previous approaches in performance.[2]\n",
      "\n",
      "ML finds application in many fields, including natural language processing, computer vision, speech recognition, email filtering, agriculture, and medicine.[3][4] When applied to business problems, it is known under the name predictive analytics. Although not all machine learning is statistically based, computational statistics is an important source of the field's methods.\n",
      "\n",
      "The mathematical foundations of ML are provided by mathematical optimization (mathematical programming) methods. Data mining is a related (parallel) field of study, focusing on exploratory data analysis (EDA) through unsupervised learning.[6][7]\n",
      "\n",
      "From a theoretical viewpoint, probably approximately correct (PAC) learning provides a framework for describing machine learning.\n",
      "The term machine learning was coined in 1959 by Arthur Samuel, an IBM employee and pioneer in the field of computer gaming and artificial intelligence.[8][9] The synonym self-teaching computers was also used in this time period.[10][11]\n",
      "\n",
      "Although the earliest machine learning model was introduced in the 1950s when Arthur Samuel invented a program that calculated the winning chance in checkers for each side, the history of machine learning roots back to decades of human desire and effort to study human cognitive processes.[12] In 1949, Canadian psychologist Donald Hebb published the book The Organization of Behavior, in which he introduced a theoretical neural structure formed by certain interactions among nerve cells.[13] Hebb's model of neurons interacting with one another set a groundwork for how AIs and machine learning algorithms work under nodes, or artificial neurons used by computers to communicate data.[12] Other researchers who have studied human cognitive systems contributed to the modern machine learning technologies as well, including logician Walter Pitts and Warren McCulloch, who proposed the early mathematical models of neural networks to come up with algorithms that mirror human thought processes.[12]\n",
      "\n",
      "By the early 1960s an experimental \"learning machine\" with punched tape memory, called Cybertron, had been developed by Raytheon Company to analyze sonar signals, electrocardiograms, and speech patterns using rudimentary reinforcement learning. It was repetitively \"trained\" by a human operator/teacher to recognize patterns and equipped with a \"goof\" button to cause it to reevaluate incorrect decisions.[14] A representative book on research into machine learning during the 1960s was Nilsson's book on Learning Machines, dealing mostly with machine learning for pattern classification.[15] Interest related to pattern recognition continued into the 1970s, as described by Duda and Hart in 1973.[16] In 1981 a report was given on using teaching strategies so that an artificial neural network learns to recognize 40 characters (26 letters, 10 digits, and 4 special symbols) from a computer terminal.[17]\n",
      "\n",
      "Tom M. Mitchell provided a widely quoted, more formal definition of the algorithms studied in the machine learning field: \"A computer program is said to learn from experience E with respect to some class of tasks T and performance measure P if its performance at tasks in T, as measured by P, improves with experience E.\"[18] This definition of the tasks in which machine learning is concerned offers a fundamentally operational definition rather than defining the field in cognitive terms. This follows Alan Turing's proposal in his paper \"Computing Machinery and Intelligence\", in which the question \"Can machines think?\" is replaced with the question \"Can machines do what we (as thinking entities) can do?\".[19]\n",
      "\n",
      "Modern-day machine learning has two objectives. One is to classify data based on models which have been developed; the other purpose is to make predictions for future outcomes based on these models. A hypothetical algorithm specific to classifying data may use computer vision of moles coupled with supervised learning in order to train it to classify the cancerous moles. A machine learning algorithm for stock trading may inform the trader of future potential predictions.[20]\n"
     ]
    }
   ],
   "source": [
    "with open(r'C:\\Users\\HP\\Desktop\\Genai_p1\\data.txt','r') as file:\n",
    "    TEXT = file.read()\n",
    "\n",
    "print(TEXT)"
   ]
  },
  {
   "cell_type": "code",
   "execution_count": 15,
   "metadata": {},
   "outputs": [
    {
     "data": {
      "text/plain": [
       "'{\"1\": {\"question\": \"Multiple choice question here\", \"options\": {\"A\": \"Option here\", \"B\": \"Option here\", \"C\": \"Option here\", \"D\": \"Option here\"}, \"correct_option\": \"A\"}, \"2\": {\"question\": \"Multiple choice question here\", \"options\": {\"A\": \"Option here\", \"B\": \"Option here\", \"C\": \"Option here\", \"D\": \"Option here\"}, \"correct_option\": \"B\"}, \"3\": {\"question\": \"Multiple choice question here\", \"options\": {\"A\": \"Option here\", \"B\": \"Option here\", \"C\": \"Option here\", \"D\": \"Option here\"}, \"correct_option\": \"A\"}}'"
      ]
     },
     "execution_count": 15,
     "metadata": {},
     "output_type": "execute_result"
    }
   ],
   "source": [
    "json.dumps(RESPONSE_JSON)"
   ]
  },
  {
   "cell_type": "code",
   "execution_count": 34,
   "metadata": {},
   "outputs": [],
   "source": [
    "NUM =5\n",
    "SUBJECT=\"Machine Learning\"\n",
    "TONE = \"simple\""
   ]
  },
  {
   "cell_type": "code",
   "execution_count": 35,
   "metadata": {},
   "outputs": [
    {
     "name": "stdout",
     "output_type": "stream",
     "text": [
      "\n",
      "\n",
      "\u001b[1m> Entering new SequentialChain chain...\u001b[0m\n",
      "\n",
      "\u001b[1m> Finished chain.\u001b[0m\n"
     ]
    }
   ],
   "source": [
    "response = generate_chain(\n",
    "    {\n",
    "        \"text\":TEXT,\n",
    "        \"number\":NUM,\n",
    "        \"subject\":SUBJECT,\n",
    "        \"tone\":TONE,\n",
    "        \"response_json\":json.dumps(RESPONSE_JSON)\n",
    "    }\n",
    ")"
   ]
  },
  {
   "cell_type": "code",
   "execution_count": 36,
   "metadata": {},
   "outputs": [
    {
     "data": {
      "text/plain": [
       "{'text': 'Machine learning (ML) is a field of study in artificial intelligence concerned with the development and study of statistical algorithms that can learn from data and generalize to unseen data and thus perform tasks without explicit instructions.[1] Recently, artificial neural networks have been able to surpass many previous approaches in performance.[2]\\n\\nML finds application in many fields, including natural language processing, computer vision, speech recognition, email filtering, agriculture, and medicine.[3][4] When applied to business problems, it is known under the name predictive analytics. Although not all machine learning is statistically based, computational statistics is an important source of the field\\'s methods.\\n\\nThe mathematical foundations of ML are provided by mathematical optimization (mathematical programming) methods. Data mining is a related (parallel) field of study, focusing on exploratory data analysis (EDA) through unsupervised learning.[6][7]\\n\\nFrom a theoretical viewpoint, probably approximately correct (PAC) learning provides a framework for describing machine learning.\\nThe term machine learning was coined in 1959 by Arthur Samuel, an IBM employee and pioneer in the field of computer gaming and artificial intelligence.[8][9] The synonym self-teaching computers was also used in this time period.[10][11]\\n\\nAlthough the earliest machine learning model was introduced in the 1950s when Arthur Samuel invented a program that calculated the winning chance in checkers for each side, the history of machine learning roots back to decades of human desire and effort to study human cognitive processes.[12] In 1949, Canadian psychologist Donald Hebb published the book The Organization of Behavior, in which he introduced a theoretical neural structure formed by certain interactions among nerve cells.[13] Hebb\\'s model of neurons interacting with one another set a groundwork for how AIs and machine learning algorithms work under nodes, or artificial neurons used by computers to communicate data.[12] Other researchers who have studied human cognitive systems contributed to the modern machine learning technologies as well, including logician Walter Pitts and Warren McCulloch, who proposed the early mathematical models of neural networks to come up with algorithms that mirror human thought processes.[12]\\n\\nBy the early 1960s an experimental \"learning machine\" with punched tape memory, called Cybertron, had been developed by Raytheon Company to analyze sonar signals, electrocardiograms, and speech patterns using rudimentary reinforcement learning. It was repetitively \"trained\" by a human operator/teacher to recognize patterns and equipped with a \"goof\" button to cause it to reevaluate incorrect decisions.[14] A representative book on research into machine learning during the 1960s was Nilsson\\'s book on Learning Machines, dealing mostly with machine learning for pattern classification.[15] Interest related to pattern recognition continued into the 1970s, as described by Duda and Hart in 1973.[16] In 1981 a report was given on using teaching strategies so that an artificial neural network learns to recognize 40 characters (26 letters, 10 digits, and 4 special symbols) from a computer terminal.[17]\\n\\nTom M. Mitchell provided a widely quoted, more formal definition of the algorithms studied in the machine learning field: \"A computer program is said to learn from experience E with respect to some class of tasks T and performance measure P if its performance at tasks in T, as measured by P, improves with experience E.\"[18] This definition of the tasks in which machine learning is concerned offers a fundamentally operational definition rather than defining the field in cognitive terms. This follows Alan Turing\\'s proposal in his paper \"Computing Machinery and Intelligence\", in which the question \"Can machines think?\" is replaced with the question \"Can machines do what we (as thinking entities) can do?\".[19]\\n\\nModern-day machine learning has two objectives. One is to classify data based on models which have been developed; the other purpose is to make predictions for future outcomes based on these models. A hypothetical algorithm specific to classifying data may use computer vision of moles coupled with supervised learning in order to train it to classify the cancerous moles. A machine learning algorithm for stock trading may inform the trader of future potential predictions.[20]',\n",
       " 'number': 5,\n",
       " 'subject': 'Machine Learning',\n",
       " 'tone': 'simple',\n",
       " 'response_json': '{\"1\": {\"question\": \"Multiple choice question here\", \"options\": {\"A\": \"Option here\", \"B\": \"Option here\", \"C\": \"Option here\", \"D\": \"Option here\"}, \"correct_option\": \"A\"}, \"2\": {\"question\": \"Multiple choice question here\", \"options\": {\"A\": \"Option here\", \"B\": \"Option here\", \"C\": \"Option here\", \"D\": \"Option here\"}, \"correct_option\": \"B\"}, \"3\": {\"question\": \"Multiple choice question here\", \"options\": {\"A\": \"Option here\", \"B\": \"Option here\", \"C\": \"Option here\", \"D\": \"Option here\"}, \"correct_option\": \"A\"}}',\n",
       " 'quiz': 'RESPONSE_JSON\\n{\\n  \"1\": {\\n    \"question\": \"What is the primary focus of machine learning?\",\\n    \"options\": {\\n      \"A\": \"The development and study of statistical algorithms that can learn from data and generalize to unseen data\",\\n      \"B\": \"The creation of artificial intelligence systems\",\\n      \"C\": \"The study of human cognitive processes\",\\n      \"D\": \"The development of computer hardware\"\\n    },\\n    \"correct_option\": \"A\"\\n  },\\n  \"2\": {\\n    \"question\": \"Which field has recently surpassed many previous approaches in machine learning performance?\",\\n    \"options\": {\\n      \"A\": \"Computer vision\",\\n      \"B\": \"Natural language processing\",\\n      \"C\": \"Artificial neural networks\",\\n      \"D\": \"Speech recognition\"\\n    },\\n    \"correct_option\": \"C\"\\n  },\\n  \"3\": {\\n    \"question\": \"What is the name given to machine learning when applied to business problems?\",\\n    \"options\": {\\n      \"A\": \"Data mining\",\\n      \"B\": \"Predictive analytics\",\\n      \"C\": \"Exploratory data analysis\",\\n      \"D\": \"Computational statistics\"\\n    },\\n    \"correct_option\": \"B\"\\n  },\\n  \"4\": {\\n    \"question\": \"Who coined the term \\'machine learning\\' in 1959?\",\\n    \"options\": {\\n      \"A\": \"Donald Hebb\",\\n      \"B\": \"Walter Pitts\",\\n      \"C\": \"Arthur Samuel\",\\n      \"D\": \"Tom M. Mitchell\"\\n    },\\n    \"correct_option\": \"C\"\\n  },\\n  \"5\": {\\n    \"question\": \"What are the two main objectives of modern-day machine learning?\",\\n    \"options\": {\\n      \"A\": \"Classification and prediction\",\\n      \"B\": \"Pattern recognition and data mining\",\\n      \"C\": \"Artificial intelligence and neural networks\",\\n      \"D\": \"Supervised and unsupervised learning\"\\n    },\\n    \"correct_option\": \"A\"\\n  }\\n}',\n",
       " 'review': \"As an expert English grammarian and writer, I will evaluate the complexity of the given Multiple Choice Quiz for Machine Learning students and provide a complete analysis.\\n\\nComplexity Analysis (50 words):\\nThe quiz questions are well-structured and cover essential concepts in machine learning. The language used is clear and concise, making it suitable for students with a basic understanding of the subject. However, some questions may be too specific or historical for introductory-level students.\\n\\nOverall, the quiz is appropriate for the cognitive and analytical abilities of Machine Learning students, with a few exceptions. Here's my analysis and suggestions:\\n\\nQuestion 1: This question is well-framed and tests the students' understanding of the primary focus of machine learning. No changes are required.\\n\\nQuestion 2: The question is relevant and tests the students' knowledge of recent advancements in machine learning. However, the options may be too specific for introductory-level students. Consider rephrasing the options to make them more general or provide additional context.\\n\\nQuestion 3: The question is appropriate and tests the students' understanding of the application of machine learning in business settings. No changes are required.\\n\\nQuestion 4: This question tests the students' knowledge of historical facts related to machine learning. While it's informative, it may not be essential for introductory-level students. Consider removing or replacing it with a more conceptual question.\\n\\nQuestion 5: The question is well-framed and tests the students' understanding of the main objectives of machine learning. However, the options could be simplified or rephrased to make them more accessible to students who are new to the subject.\\n\\nTo better align with the students' abilities, consider rephrasing or replacing some of the more specific or historical questions with more conceptual ones that test their understanding of the fundamental principles and applications of machine learning.\"}"
      ]
     },
     "execution_count": 36,
     "metadata": {},
     "output_type": "execute_result"
    }
   ],
   "source": [
    "response"
   ]
  },
  {
   "cell_type": "code",
   "execution_count": 41,
   "metadata": {},
   "outputs": [
    {
     "name": "stdout",
     "output_type": "stream",
     "text": [
      "\n",
      "{\n",
      "  \"1\": {\n",
      "    \"question\": \"What is the primary focus of machine learning?\",\n",
      "    \"options\": {\n",
      "      \"A\": \"The development and study of statistical algorithms that can learn from data and generalize to unseen data\",\n",
      "      \"B\": \"The creation of artificial intelligence systems\",\n",
      "      \"C\": \"The study of human cognitive processes\",\n",
      "      \"D\": \"The development of computer hardware\"\n",
      "    },\n",
      "    \"correct_option\": \"A\"\n",
      "  },\n",
      "  \"2\": {\n",
      "    \"question\": \"Which field has recently surpassed many previous approaches in machine learning performance?\",\n",
      "    \"options\": {\n",
      "      \"A\": \"Computer vision\",\n",
      "      \"B\": \"Natural language processing\",\n",
      "      \"C\": \"Artificial neural networks\",\n",
      "      \"D\": \"Speech recognition\"\n",
      "    },\n",
      "    \"correct_option\": \"C\"\n",
      "  },\n",
      "  \"3\": {\n",
      "    \"question\": \"What is the name given to machine learning when applied to business problems?\",\n",
      "    \"options\": {\n",
      "      \"A\": \"Data mining\",\n",
      "      \"B\": \"Predictive analytics\",\n",
      "      \"C\": \"Exploratory data analysis\",\n",
      "      \"D\": \"Computational statistics\"\n",
      "    },\n",
      "    \"correct_option\": \"B\"\n",
      "  },\n",
      "  \"4\": {\n",
      "    \"question\": \"Who coined the term 'machine learning' in 1959?\",\n",
      "    \"options\": {\n",
      "      \"A\": \"Donald Hebb\",\n",
      "      \"B\": \"Walter Pitts\",\n",
      "      \"C\": \"Arthur Samuel\",\n",
      "      \"D\": \"Tom M. Mitchell\"\n",
      "    },\n",
      "    \"correct_option\": \"C\"\n",
      "  },\n",
      "  \"5\": {\n",
      "    \"question\": \"What are the two main objectives of modern-day machine learning?\",\n",
      "    \"options\": {\n",
      "      \"A\": \"Classification and prediction\",\n",
      "      \"B\": \"Pattern recognition and data mining\",\n",
      "      \"C\": \"Artificial intelligence and neural networks\",\n",
      "      \"D\": \"Supervised and unsupervised learning\"\n",
      "    },\n",
      "    \"correct_option\": \"A\"\n",
      "  }\n",
      "}\n"
     ]
    }
   ],
   "source": [
    "quiz = response.get(\"quiz\")\n",
    "quiz_cleaned = quiz.strip().strip('RESPONSE_JSON').strip('```')\n",
    "print(quiz_cleaned)\n"
   ]
  },
  {
   "cell_type": "code",
   "execution_count": 42,
   "metadata": {},
   "outputs": [],
   "source": [
    "quiz = json.loads(quiz_cleaned)"
   ]
  },
  {
   "cell_type": "code",
   "execution_count": 23,
   "metadata": {},
   "outputs": [],
   "source": [
    "quiz_table_data = []\n",
    "for key,value in quiz.items():\n",
    "    mcq = value[\"question\"]\n",
    "    options = \" | \".join(\n",
    "        [\n",
    "            f\"{option}: {option_value}\"\n",
    "            for option,option_value in value[\"options\"].items() \n",
    "        ]\n",
    "    )\n",
    "    correct = value[\"correct_option\"]\n",
    "    quiz_table_data.append({\"MCQ\":mcq,\"Choices\":options,\"Correct\":correct}) "
   ]
  },
  {
   "cell_type": "code",
   "execution_count": 24,
   "metadata": {},
   "outputs": [
    {
     "data": {
      "text/plain": [
       "[{'MCQ': 'What is Machine Learning (ML) primarily concerned with?',\n",
       "  'Choices': 'A: The development and study of statistical algorithms that can learn from data and generalize to unseen data | B: The development of artificial intelligence systems | C: The study of human cognitive processes | D: The development of computer hardware',\n",
       "  'Correct': 'A'},\n",
       " {'MCQ': 'Which of the following fields has Machine Learning found application in?',\n",
       "  'Choices': 'A: Natural language processing | B: Computer vision | C: Speech recognition | D: All of the above',\n",
       "  'Correct': 'D'},\n",
       " {'MCQ': 'What is the mathematical foundation of Machine Learning provided by?',\n",
       "  'Choices': 'A: Mathematical optimization (mathematical programming) methods | B: Calculus | C: Linear algebra | D: Statistics',\n",
       "  'Correct': 'A'},\n",
       " {'MCQ': \"Who coined the term 'Machine Learning' in 1959?\",\n",
       "  'Choices': 'A: Donald Hebb | B: Arthur Samuel | C: Tom M. Mitchell | D: Alan Turing',\n",
       "  'Correct': 'B'},\n",
       " {'MCQ': 'What are the two main objectives of modern-day Machine Learning?',\n",
       "  'Choices': 'A: Classification and prediction | B: Pattern recognition and data mining | C: Supervised and unsupervised learning | D: Artificial intelligence and computer vision',\n",
       "  'Correct': 'A'}]"
      ]
     },
     "execution_count": 24,
     "metadata": {},
     "output_type": "execute_result"
    }
   ],
   "source": [
    "quiz_table_data"
   ]
  },
  {
   "cell_type": "code",
   "execution_count": 43,
   "metadata": {},
   "outputs": [],
   "source": [
    "quiz = pd.DataFrame(quiz_table_data)"
   ]
  },
  {
   "cell_type": "code",
   "execution_count": 46,
   "metadata": {},
   "outputs": [],
   "source": [
    "fileName = SUBJECT+'.csv'\n",
    "quiz.to_csv(f'{fileName}',index=False)"
   ]
  },
  {
   "cell_type": "code",
   "execution_count": 48,
   "metadata": {},
   "outputs": [
    {
     "data": {
      "text/plain": [
       "'09_09_2024_19_18_57'"
      ]
     },
     "execution_count": 48,
     "metadata": {},
     "output_type": "execute_result"
    }
   ],
   "source": [
    "from datetime import datetime\n",
    "datetime.now().strftime('%m_%d_%Y_%H_%M_%S')"
   ]
  },
  {
   "cell_type": "code",
   "execution_count": null,
   "metadata": {},
   "outputs": [],
   "source": []
  }
 ],
 "metadata": {
  "kernelspec": {
   "display_name": "Python 3",
   "language": "python",
   "name": "python3"
  },
  "language_info": {
   "codemirror_mode": {
    "name": "ipython",
    "version": 3
   },
   "file_extension": ".py",
   "mimetype": "text/x-python",
   "name": "python",
   "nbconvert_exporter": "python",
   "pygments_lexer": "ipython3",
   "version": "3.12.5"
  }
 },
 "nbformat": 4,
 "nbformat_minor": 2
}
